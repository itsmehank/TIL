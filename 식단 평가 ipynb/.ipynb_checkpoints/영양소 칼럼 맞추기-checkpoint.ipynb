{
 "cells": [
  {
   "cell_type": "code",
   "execution_count": 1,
   "metadata": {},
   "outputs": [],
   "source": [
    "import pandas as pd\n",
    "from os import listdir\n",
    "\n",
    "directories = [\"국\",\"메인\",\"반찬\",\"기본\"]\n",
    "\n",
    "for directory in directories:\n",
    "    onlyfiles = [f for f in listdir(\"./음식_데이터/\"+directory)]\n",
    "    for file in onlyfiles:\n",
    "        food = pd.read_excel(\"./음식_데이터/\"+directory+\"/\"+file)\n",
    "        food.drop(['필수 아미노산(mg)', '칼슘(mg)','철(mg)','마그네슘(mg)','인(mg)','칼륨(mg)','몰리브덴(μg)','요오드(μg)','비타민E(μg)','비타민K1(μg)','니아신(mg)','비타민B6(mg)','비오틴(mg)','비타민C(μg)'] , axis='columns', inplace=True)\n",
    "        food.to_excel(file)\n",
    "\n",
    "        \n"
   ]
  },
  {
   "cell_type": "code",
   "execution_count": null,
   "metadata": {},
   "outputs": [],
   "source": [
    "import pandas as pd\n",
    "from os import listdir\n",
    "\n",
    "\n",
    "\n",
    "directories = [\"국\",\"메인\",\"반찬\",\"기본\"]\n",
    "\n",
    "for directory in directories:\n",
    "    onlyfiles = [f for f in listdir(\"./음식_데이터/\"+directory)]\n",
    "    print(onlyfiles)\n",
    "    for file in onlyfiles:\n",
    "        print(file)\n",
    "        food = pd.read_excel(\"./음식_데이터/\"+directory+\"/\"+file)\n",
    "        print(food)\n",
    "        break\n",
    "    break"
   ]
  },
  {
   "cell_type": "code",
   "execution_count": null,
   "metadata": {},
   "outputs": [],
   "source": []
  }
 ],
 "metadata": {
  "kernelspec": {
   "display_name": "Python 3",
   "language": "python",
   "name": "python3"
  },
  "language_info": {
   "codemirror_mode": {
    "name": "ipython",
    "version": 3
   },
   "file_extension": ".py",
   "mimetype": "text/x-python",
   "name": "python",
   "nbconvert_exporter": "python",
   "pygments_lexer": "ipython3",
   "version": "3.6.8"
  }
 },
 "nbformat": 4,
 "nbformat_minor": 2
}
