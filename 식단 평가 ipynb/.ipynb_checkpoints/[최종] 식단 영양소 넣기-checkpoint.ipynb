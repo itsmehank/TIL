{
 "cells": [
  {
   "cell_type": "markdown",
   "metadata": {},
   "source": [
    "## 음식 4개인 파일 영양소 붙이기"
   ]
  },
  {
   "cell_type": "code",
   "execution_count": 1,
   "metadata": {},
   "outputs": [
    {
     "data": {
      "text/plain": [
       "['7.덮밥류,맑은국류,어패류구이,채소만볶', '8.밥,전골,어패류회,채소만볶', '9.밥,육류찌개,어패류회,마른어패류볶음']"
      ]
     },
     "execution_count": 1,
     "metadata": {},
     "output_type": "execute_result"
    }
   ],
   "source": [
    "# 폴더 내의 모든 파일들을 읽어오는 코드\n",
    "from os import listdir\n",
    "\n",
    "onlyfiles = [f for f in listdir(\"./중복제거된_저녁식단\")]\n",
    "onlyfiles"
   ]
  },
  {
   "cell_type": "code",
   "execution_count": 3,
   "metadata": {},
   "outputs": [],
   "source": [
    "import re\n",
    "import pandas as pd\n",
    "import numpy as np\n",
    "\n",
    "category_list = [\"밥\",\"국\",\"메인\",\"서브\"]\n",
    "\n",
    "for file in onlyfiles:\n",
    "    number = file[0]\n",
    "    re_name = re.sub(r\"(\\d)[.]\",\"\",file)\n",
    "    diet_list = re_name.split(\",\")\n",
    "    파일1 = pd.read_excel(\"./음식_데이터/\"+diet_list[0]+\".xlsx\")\n",
    "    파일2 = pd.read_excel(\"./음식_데이터/\"+diet_list[1]+\".xlsx\")\n",
    "    파일3 = pd.read_excel(\"./음식_데이터/\"+diet_list[2]+\".xlsx\")\n",
    "    파일4 = pd.read_excel(\"./음식_데이터/\"+diet_list[3]+\".xlsx\")\n",
    "    onlydiets = [f for f in listdir(\"./중복제거된_저녁식단/\"+file)]\n",
    "    for diet in onlydiets:\n",
    "        영양소정보_리스트 = {}\n",
    "        영양소정보_리스트[\"밥\"] = []\n",
    "        영양소정보_리스트[\"국\"] = []\n",
    "        영양소정보_리스트[\"메인\"] = []\n",
    "        영양소정보_리스트[\"서브\"] = []\n",
    "        식단 = pd.read_csv(\"./중복제거된_저녁식단/\"+file+\"/\" + diet)\n",
    "        for keyword in category_list:\n",
    "            if keyword == \"밥\":\n",
    "                비교파일 = 파일1\n",
    "            elif keyword == \"국\":\n",
    "                비교파일 = 파일2\n",
    "            elif keyword == \"메인\":\n",
    "                비교파일 = 파일3\n",
    "            elif keyword == \"서브\":\n",
    "                비교파일 = 파일4\n",
    "            for dish in 식단[keyword]:\n",
    "                음식정보 = 비교파일[비교파일.iloc[:,0]==dish]\n",
    "                영양소정보 = 음식정보.iloc[:,5:]\n",
    "                영양소정보_리스트[keyword].append(list(영양소정보.values)[0])\n",
    "        영양소_총계 = np.array(영양소정보_리스트[\"밥\"])+np.array(영양소정보_리스트[\"국\"])+np.array(영양소정보_리스트[\"메인\"])+np.array(영양소정보_리스트[\"서브\"])\n",
    "        최종데이터 = pd.concat([식단,pd.DataFrame(영양소_총계)],axis = 1)\n",
    "        최종데이터.columns = [\"날려1\",\"날려2\"] + list(식단.columns[2:])+list(파일1.columns[5:])\n",
    "        최종데이터.drop([\"날려1\",\"날려2\"],axis = 1, inplace = True)\n",
    "        최종데이터.sort_values([\"나트륨(mg)\",\"총 당류(g)\"],ascending = [True,True],inplace = True)\n",
    "        최종데이터.to_excel(\"./영양소추가_중복제거된_저녁식단/\"+ file +\"/\" +\"(\"+number+\")\"+diet[:-4]+'.xlsx')\n",
    "\n"
   ]
  },
  {
   "cell_type": "markdown",
   "metadata": {},
   "source": [
    "## 음식 3개인 파일 영양소 붙이기__ (면,메인,서브)"
   ]
  },
  {
   "cell_type": "code",
   "execution_count": 2,
   "metadata": {},
   "outputs": [
    {
     "data": {
      "text/plain": [
       "['7.면,육류볶음,두류및기타볶튀']"
      ]
     },
     "execution_count": 2,
     "metadata": {},
     "output_type": "execute_result"
    }
   ],
   "source": [
    "# 폴더 내의 모든 파일들을 읽어오는 코드\n",
    "from os import listdir\n",
    "\n",
    "onlyfiles = [f for f in listdir(\"./중복제거된_점심식단\")]\n",
    "onlyfiles"
   ]
  },
  {
   "cell_type": "code",
   "execution_count": 3,
   "metadata": {},
   "outputs": [],
   "source": [
    "import re\n",
    "import pandas as pd\n",
    "import numpy as np\n",
    "\n",
    "category_list = [\"밥\",\"메인\",\"서브\"]\n",
    "\n",
    "for file in onlyfiles:\n",
    "    number = file[0]\n",
    "    re_name = re.sub(r\"(\\d)[.]\",\"\",file)\n",
    "    diet_list = re_name.split(\",\")\n",
    "    파일1 = pd.read_excel(\"./음식_데이터/\"+diet_list[0]+\".xlsx\")\n",
    "    파일2 = pd.read_excel(\"./음식_데이터/\"+diet_list[1]+\".xlsx\")\n",
    "    파일3 = pd.read_excel(\"./음식_데이터/\"+diet_list[2]+\".xlsx\")\n",
    "    onlydiets = [f for f in listdir(\"./중복제거된_점심식단/\"+file)]\n",
    "    for diet in onlydiets:\n",
    "        영양소정보_리스트 = {}\n",
    "        영양소정보_리스트[\"밥\"] = []\n",
    "        영양소정보_리스트[\"메인\"] = []\n",
    "        영양소정보_리스트[\"서브\"] = []\n",
    "        식단 = pd.read_csv(\"./중복제거된_점심식단/\"+file+\"/\" + diet)\n",
    "        for keyword in category_list:\n",
    "            if keyword == \"밥\":\n",
    "                비교파일 = 파일1\n",
    "            elif keyword == \"메인\":\n",
    "                비교파일 = 파일2\n",
    "            elif keyword == \"서브\":\n",
    "                비교파일 = 파일3\n",
    "            for dish in 식단[keyword]:\n",
    "                음식정보 = 비교파일[비교파일.iloc[:,0]==dish]\n",
    "                영양소정보 = 음식정보.iloc[:,5:]\n",
    "                영양소정보_리스트[keyword].append(list(영양소정보.values)[0])\n",
    "        영양소_총계 = np.array(영양소정보_리스트[\"밥\"])+np.array(영양소정보_리스트[\"메인\"])+np.array(영양소정보_리스트[\"서브\"])\n",
    "        최종데이터 = pd.concat([식단,pd.DataFrame(영양소_총계)],axis = 1)\n",
    "        최종데이터.columns = [\"날려1\",\"날려2\"] + list(식단.columns[2:])+list(파일1.columns[5:])\n",
    "        최종데이터.drop([\"날려1\",\"날려2\"],axis = 1, inplace = True)\n",
    "        최종데이터.sort_values([\"나트륨(mg)\",\"총 당류(g)\"],ascending = [True,True],inplace = True)\n",
    "        최종데이터.to_excel(\"./영양소추가_중복제거된_점심식단/\"+ file +\"/\" +\"(\"+number+\")\"+diet[:-4]+'.xlsx')\n"
   ]
  }
 ],
 "metadata": {
  "kernelspec": {
   "display_name": "Python 3",
   "language": "python",
   "name": "python3"
  },
  "language_info": {
   "codemirror_mode": {
    "name": "ipython",
    "version": 3
   },
   "file_extension": ".py",
   "mimetype": "text/x-python",
   "name": "python",
   "nbconvert_exporter": "python",
   "pygments_lexer": "ipython3",
   "version": "3.7.3"
  }
 },
 "nbformat": 4,
 "nbformat_minor": 2
}
