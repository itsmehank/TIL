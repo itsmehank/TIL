{
 "cells": [
  {
   "cell_type": "markdown",
   "metadata": {},
   "source": [
    "# Bokeh Userguide\n",
    "\n",
    "https://docs.bokeh.org/en/latest/docs/user_guide.html"
   ]
  },
  {
   "cell_type": "markdown",
   "metadata": {},
   "source": [
    "## Quickstart\n",
    "\n",
    "보캡(Bokeh)은 웹프라우저를 통해 구현하기 위한 동적인 시각화 라이브러리입니다. 간단하게 동적인 데이터 시각화를 가능하게 하면서 동시에 강력한 시각화 툴로서 기능하기 위해서 보캡은 사용자에게 두가지 인터페이스를 제공합니다. \n",
    "\n",
    "* bokeh.models: 낮은 수준의 인터페이스로 개발자가 보다 자신의 의도를 반영해 동적그래프를 완성시킬 수 있게 합니다. \n",
    "\n",
    "* bokeh.plotting: 높은 수순의 인터페이스로 보다 손쉽게 동적그래프를 완성키실 수 있게 합니다."
   ]
  },
  {
   "cell_type": "markdown",
   "metadata": {},
   "source": [
    "### Getting Started _ bokeh.plotting\n",
    "\n",
    "\n",
    "#### bokeh.plotting의 사용 순서\n",
    "\n",
    "1. 파이썬의 list, 넘파이의 array, 판다스의 series 형태의 데이터을 준비한다.\n",
    "<br><br>\n",
    "2. bokeh의 결과물 저장 코드를 작성한다.(output_file() 혹은 output_notebook()을 사용한다)\n",
    "<br><br>\n",
    "3. 도화지 객체(figure)를 생성하고 세부 옵션을 설정해준다.\n",
    "<br><br>\n",
    "4. 그래프 메소드(예시. line)를 작성하고 세부 옵션을 설정해준다.\n",
    "<br><br>\n",
    "5. show()나 save() 메소드를 사용해서 결과물을 처리한다.\n",
    "\n",
    "\n",
    "\n",
    "<p>보캡의 첫 시작으로 간단한 선형 그래프(line plot)를 그려봅시다. <br>(아래 코드를 쥬피터노트북에서 돌린다면 새로운 페이지에 그래프가 나타날 것입니다.)</p> "
   ]
  },
  {
   "cell_type": "code",
   "execution_count": 3,
   "metadata": {},
   "outputs": [],
   "source": [
    "# 보캡에서 간단하게 그래프를 그리는 인터페이스인 bokeh.plotting에서 원하는 모듈을 가져옵시다.\n",
    "# figure : matplotlib에서와 마찬가지로 도화지 역할을 합니다.\n",
    "# output_file : 최종 결과물을 어떤 이름, 어떤 형식으로 저장할 것인지 설정합니다.\n",
    "# show : 그림을 보여주는 역할을 합니다.\n",
    "from bokeh.plotting import figure, output_file, show\n",
    "\n",
    "\n",
    "# 데이터를 준비합니다. \n",
    "x = [1, 2, 3, 4, 5]\n",
    "y = [6, 7, 2, 4, 5]\n",
    "\n",
    "# 시각화 결과물을 lines라는 이름의 html 문서로 저장함을 선언합니다.\n",
    "output_file(\"lines.html\")\n",
    "\n",
    "# figure를 통해서는 도화지의 옵션을 설정할 수 있습니다.\n",
    "# title는 도화지의 제목, x_axis_label는 x축에 어떤 값들이 오는지, y_axis_label은 y축에 어떤 값들이 오는지\n",
    "p = figure(title=\"simple line example\", x_axis_label='x', y_axis_label='y')\n",
    "\n",
    "# 선형 그래프(line)을 그려줍니다.figure을 객체로하고 line을 메소드로 해서 작성합니다. \n",
    "p.line(x, y, legend=\"Temp.\", line_width=2)\n",
    "\n",
    "# show로 해당 그래프를 봅니다. \n",
    "show(p)"
   ]
  },
  {
   "cell_type": "markdown",
   "metadata": {},
   "source": [
    "### 다양한 그래프를 하나의 figure에 표현하기 _ bokeh.plotting\n"
   ]
  },
  {
   "cell_type": "code",
   "execution_count": 9,
   "metadata": {},
   "outputs": [],
   "source": [
    "from bokeh.plotting import figure, output_file, show\n",
    "\n",
    "# 그래프로 표현할 데이터를 준비한다.\n",
    "x = [0.1, 0.5, 1.0, 1.5, 2.0, 2.5, 3.0]\n",
    "y0 = [i**2 for i in x]\n",
    "y1 = [10**i for i in x]\n",
    "y2 = [10**(i**2) for i in x]\n",
    "\n",
    "# 결과값을 저장할 형태를 설정한다.(html 문서로 저장)\n",
    "output_file(\"log_lines.html\")\n",
    "\n",
    "# figure를 만들고 설정해준다.\n",
    "\n",
    "# tools = 해당 그래프의 기능을 설정해준다.(아래 세부 설명)\n",
    "## >>> pan : 그래프를 움직일 수 있다, box_zoom : 그래프를 줌인 할 수 있다 \n",
    "## >>> reset : 그래프를 원상태로 되돌릴 수 있다. save : 그래프를 png 파일로 저장할 수 있다.\n",
    "\n",
    "# y_axis_type = y축의 값으로 받는 데이터를 어떤 형태로 가공해서 표현할지 정한다. \n",
    "## >>> y_axis_type = \"log\"의 경우 y축 인자로 받는 값들에 대해 log를 취해준다.\n",
    "\n",
    "# y_range = y축의 값의 범위를 설정해준다. \n",
    "## x_axis_label(y_axis_label) = x축, y축의 이름을 붙여준다.\n",
    "p = figure(\n",
    "   tools=\"pan,box_zoom,reset,save\",\n",
    "   y_axis_type=\"log\", y_range=[0.001, 10**11], title=\"log axis example\",\n",
    "   x_axis_label='sections', y_axis_label='particles'\n",
    ")\n",
    "\n",
    "\n",
    "# 기본색으로 선을 만들고 해당 선은 범례에 y=x라는 이름으로 들어간다.\n",
    "p.line(x, x, legend=\"y=x\")\n",
    "\n",
    "# x,x 좌표에 기본색으로 원을 그리고 그 안을 white로 채운다.\n",
    "## circle메소드에 fill_color로 원 안의 색을 채울 수 있다.\n",
    "p.circle(x, x, legend=\"y=x\", fill_color=\"white\", size=8)\n",
    "\n",
    "# line 메소드의 line_width 옵션으로 해당 그래프의 굵기를 정할 수 있다.\n",
    "p.line(x, y0, legend=\"y=x^2\", line_width=3)\n",
    "\n",
    "# line 메소드의 line_color 옵션으로 해당 그래프의 색상을 정할 수 있다. \n",
    "p.line(x, y1, legend=\"y=10^x\", line_color=\"red\")\n",
    "\n",
    "# circle 메소드의 line_color 옵션으로 원 테두리 선의 색상을 정할 수 있다.\n",
    "p.circle(x, y1, legend=\"y=10^x\", fill_color=\"red\", line_color=\"red\", size=6)\n",
    "\n",
    "# line 메소드의 line_dash 옵션은 해당 값(픽셀)을 간격으로 그래프를 표현한다.\n",
    "p.line(x, y2, legend=\"y=10^x^2\", line_color=\"orange\", line_dash=\"4 4\")\n",
    "\n",
    "\n",
    "# 결과값을 출력한다.\n",
    "show(p)"
   ]
  },
  {
   "cell_type": "markdown",
   "metadata": {},
   "source": [
    "## bokeh과 다른 것들의 관계\n",
    "\n",
    "\n",
    "### github과 bokeh\n",
    "\n",
    "bokeh은 github에서 제공하는 notebook preview로 미리보기가 제공되지 않는다. 그 이유는 bokeh은 자바스크립트로 작성되어있는데 github은 미리보기에서 모든 자바스크립트코드를 지워버리기 때문이다.\n",
    "\n",
    "\n",
    "### R과 bokeh, Scala와 bokeh\n",
    "\n",
    "bokeh은 R과 Scalar에서도 작동한다.\n",
    "\n",
    "\n",
    "### bokeh의 sample data 다운로드\n",
    "\n",
    "bokeh은 그래프를 그려볼 수 있는 샘플데이터를 제공하는데, window command line이나 window bash에서 아래의 명령어로 다운로드 가능하다.\n",
    "<table>\n",
    "    <tr>\n",
    "        <th> bokeh sampledata </th>\n",
    "    </tr>\n",
    "</table>"
   ]
  },
  {
   "cell_type": "markdown",
   "metadata": {},
   "source": [
    "## bokeh의 주요 개념들\n",
    "\n",
    "1. plot\n",
    "   plot는 figure에 그려지는 것들을 통칭하는 용어다.\n",
    "   아래 후술하는 glyphs와 guide, annotation, range 등등은\n",
    "   모두 plot를 구성하는 요소들이다.\n",
    "<br><br>\n",
    "2. glyphs \n",
    "   glyphs는 figure에 그려지는 도형(선이나 원)을 의미한다.\n",
    "<br><br>\n",
    "3. guides and annotations\n",
    "   guide는 figure 정보를 도와주는 도구로 grid(격자)와 \n",
    "   bands(묶음)등을 포괄한다. annotation은 그래프의 x,y축의 \n",
    "   라벨 그리고 타이틀을 의미한다.\n",
    "<br><br>\n",
    "4. ranges\n",
    "   ranges는 plot의 x축,y축에 표기되는 숫자의 범위를 의미한다.\n",
    "   구체적으로 figure 객체의 x_range, y_range 옵션을 사용해 \n",
    "   설정된다. 값은 리스트나 튜플 형태로 입력되며 (범위시작,\n",
    "   범위 끝) 혹은 [범위시작 , 범위끝]으로 표현된다.\n",
    "<br><br>\n",
    "5. resources\n",
    "   resources는 결과물을 어떤 형태로 출력할 것인지를 정하는\n",
    "   것으로 보통 output_file()이 사용된다. 하지만 출력단에서 \n",
    "   바로 확인하고 싶다면 output_file()의 옵션으로 mode = \n",
    "   \"inline\"을 사용하자.\n"
   ]
  },
  {
   "cell_type": "markdown",
   "metadata": {},
   "source": [
    "### 아래 코드 실습을 위한 numpy 기능 예습_np.random.random\n",
    "\n",
    "* np.random.random(N): 0부터 1사이의 랜덤실수 N개를 인자로하는 array를 반환한다.\n",
    "<br><br>\n",
    "\n",
    "* array * K = array의 각 인자에 K를 곱한 결과를 출력한다."
   ]
  },
  {
   "cell_type": "code",
   "execution_count": 15,
   "metadata": {},
   "outputs": [
    {
     "data": {
      "text/plain": [
       "array([0.73380078, 0.3808992 ])"
      ]
     },
     "execution_count": 15,
     "metadata": {},
     "output_type": "execute_result"
    }
   ],
   "source": [
    "np.random.random(2)"
   ]
  },
  {
   "cell_type": "code",
   "execution_count": 13,
   "metadata": {},
   "outputs": [
    {
     "data": {
      "text/plain": [
       "array([64.63134769, 39.22509367, 73.77301073, 97.33385608, 77.29667054,\n",
       "        0.43828192, 41.76296089, 35.62556104,  6.18590653, 29.1240081 ])"
      ]
     },
     "execution_count": 13,
     "metadata": {},
     "output_type": "execute_result"
    }
   ],
   "source": [
    "k = np.random.random(size=10) * 100"
   ]
  },
  {
   "cell_type": "markdown",
   "metadata": {},
   "source": [
    "### 실습: 색깔과 크기를 벡터화한 그래프를 그려보자\n",
    "\n"
   ]
  },
  {
   "cell_type": "code",
   "execution_count": 23,
   "metadata": {},
   "outputs": [],
   "source": [
    "import numpy as np\n",
    "\n",
    "from bokeh.plotting import figure, output_file, show\n",
    "\n",
    "\n",
    "# 데이터를 구성한다.\n",
    "N = 4000\n",
    "# np.random.random(size = 숫자)\n",
    "## >> np.random.random(size = 숫자)는 해당 숫자에 해당하는 사이즈의 array를 반환한다. \n",
    "## >> (np.random.random(N)은 0이상 1이하의 숫자 N개를 랜덤으로 반환한다.)\n",
    "## >> numpy의 array에 단순곱을 하면 각 요소별로 곱셈을 하게 된다.(내적곱이 아니다)\n",
    "x = np.random.random(size=N) * 100\n",
    "y = np.random.random(size=N) * 100\n",
    "radii = np.random.random(size=N) * 1.5\n",
    "\n",
    "# color의 리스트를 만들어준다.\n",
    "## >> color 코드는 16진수(hex)여야 한다. 따라서 16진수 형태로 컬러코드를 만들어준다. \n",
    "## >> %02x는 16진수 표현형태를 의미한다.\n",
    "## >> 150을 16진수로 바꿔주면 96이된다.\n",
    "colors = [\n",
    "    \"#%02x%02x%02x\" % (int(r), int(g), 150) for r, g in zip(50+2*x, 30+2*y)\n",
    "]\n",
    "\n",
    "\n",
    "# html 파일로 결과값을 받고 cdn 모드를 사용하여 해당 파일을 저장한다.\n",
    "output_file(\"color_scatter.html\", title=\"color_scatter.py example\", mode=\"cdn\")\n",
    "\n",
    "# 사용할 tool들을 정의해준다.(정의된 순서로 기능이 나열되는 것은 아니다. 나열순서는 따로 정해져 있음) \n",
    "# crosshair의 경우 십자선의 커서를 제공하는 기능이다.\n",
    "# pan의 경우 그래프를 이동하는 기능이다. \n",
    "# wheel_zoom의 경우 스크롤을 이용해서 확대를 하는 기능이다. \n",
    "# box_zoom의 경우 박스를 선택해 확대를 하는 기능이다.\n",
    "# box_select의 경우 박스를 선택하는 기능이다(선택이외의 영역만 색 표시)\n",
    "# lasso_select의 경우 원하는 형태의 도형으로 영역을 선택하는 기능이다.\n",
    "TOOLS = \"crosshair,pan,wheel_zoom,box_zoom,reset,box_select,lasso_select\"\n",
    "\n",
    "\n",
    "\n",
    "# 도화지(figure)를 셋팅한다. 위에서 정의한 tool을 불러오고 x_range와 y_range 옵션으로 x,y축의 범위를 설정해준다.\n",
    "p = figure(tools=TOOLS, x_range=(0, 100), y_range=(0, 100))\n",
    "\n",
    "# add a circle renderer with vectorized colors and sizes\n",
    "# x와 y리스트를 이용해서 원을 그려준다. radius(반지름)도 값을 준다. \n",
    "# fill_colord값으로 앞서 만든 color들의 리스트를 입력해준다. \n",
    "# fill_alpha는 색의 선명도에 관련된 옵션으로 1의 경우 해당 색을 온전히 표현하는 것이고 1 이하는 투명도를 주는 것이다.\n",
    "# line_color는 원의 테두리 옵션으로 None을 주면 원이 테두리 없이 표현된다. \n",
    "p.circle(x, y, radius=radii, fill_color=colors, fill_alpha=0.6, line_color=None)\n",
    "\n",
    "# show the results\n",
    "show(p)"
   ]
  },
  {
   "cell_type": "markdown",
   "metadata": {},
   "source": [
    "## 여러 그래프에 걸쳐서 Tool의 기능을 연동시키기 (panning, brushing)\n",
    "\n",
    "* <h3>panning</h3>: 도화지를 드래그해서 도화지 내에서 시각이 움직이는 기능이다.\n",
    "<br>\n",
    "* <h3>brushing</h3>:\n",
    "<br>\n",
    "\n",
    "<p> 위의 두 기능은 보통 하나의 그래프에서 작동하지만 여러개의 그래프를 동시에 그려서 동시에 여러개의 그래프에서 작동시키는 것또한 가능하다.</p>\n",
    "\n",
    "#### <p> 일단 여러개의 그래프에서 panning을 구현하는 코드를 보자</p> \n",
    "\n"
   ]
  },
  {
   "cell_type": "code",
   "execution_count": 5,
   "metadata": {},
   "outputs": [],
   "source": [
    "import numpy as np\n",
    "\n",
    "from bokeh.layouts import gridplot\n",
    "from bokeh.plotting import figure, output_file, show\n",
    "\n",
    "# 표현할 데이터를 준비하자\n",
    "N = 100\n",
    "## np.linspace(출발, 끝, 나눌 덩어리 수) : 출발지점부터 끝 지점까지 같은 간격으로 나눌덩어리수 만큼 쪼갠 리스트를 의미한다.\n",
    "x = np.linspace(0, 4*np.pi, N)\n",
    "y0 = np.sin(x)\n",
    "y1 = np.cos(x)\n",
    "y2 = np.sin(x) + np.cos(x)\n",
    "\n",
    "# 결과물 출력형태를 설정한다.\n",
    "output_file(\"linked_panning.html\")\n",
    "\n",
    "# 도화지를 새로 세팅해준다. >> 그래프가 3개라면 도화지 역시 3개를 세팅해야한다\n",
    "s1 = figure(width=250, plot_height=250, title=None)\n",
    "# circle r그래프를 그려준다. 여기서 alpha는 원의 투명도를 의미한다.\n",
    "s1.circle(x, y0, size=10, color=\"navy\", alpha= 0.1)\n",
    "\n",
    "#  두번째 도화지를 만들고 range는 첫번째 도화지의 값을 받는다.\n",
    "s2 = figure(width=250, height=250, x_range=s1.x_range, y_range=s1.y_range, title=None)\n",
    "s2.triangle(x, y1, size=10, color=\"firebrick\", alpha=0.5)\n",
    "\n",
    "# 세번째 도화지와 그래프를 그려준다.\n",
    "s3 = figure(width=250, height=250, x_range=s1.x_range, title=None)\n",
    "s3.square(x, y2, size=10, color=\"olive\", alpha=0.5)\n",
    "\n",
    "# 3개의 그래프를 gridplot을 이용해서 묶어준다.\n",
    "# >> gridplot()는 figure들을 하나로 묶어주는 객체이다.\n",
    "# >> 이때 인자는 그래프들의 리스트를 또 한번 중괄호해서 받는다.\n",
    "# 옵션값으로 toolbar_location의 값을 None으로 받아서 tool 섹션을 숨겨준다.\n",
    "p = gridplot([[s1, s2, s3]], toolbar_location=None)\n",
    "\n",
    "# show the results\n",
    "show(p)"
   ]
  },
  {
   "cell_type": "markdown",
   "metadata": {},
   "source": [
    "#### 여러 그래프에 걸쳐서 brushing을 사용해보자\n",
    "\n",
    "> 여러그래프에서의 brushing이란 하나의 그래프에서의 어떤 영역을 선택하면 다른 그래프에서 해당 영역이 선택되는 것을 의미한다.\n",
    "\n",
    "> 이를 위해서는 두 그래프(plot)이 공통 요소를 포함하고 있어야 한다. 예를 들어서 두 그래프의 x축의 값(데이터)이 같아야 한다. 이 경우 한 그래프에서의 특정 영역을 선택하면 해당 영역의 x값들에 해당하는 다른 그래프의 영역을 보여주는 형식이다. "
   ]
  },
  {
   "cell_type": "code",
   "execution_count": 8,
   "metadata": {},
   "outputs": [],
   "source": [
    "import numpy as np\n",
    "from bokeh.plotting import *\n",
    "from bokeh.models import ColumnDataSource\n",
    "\n",
    "# 데이터 셋을 준비한다.\n",
    "N = 300\n",
    "x = np.linspace(0, 4*np.pi, N)\n",
    "y0 = np.sin(x)\n",
    "y1 = np.cos(x)\n",
    "\n",
    "# 저장형태를 html 형식으로 설정한다.\n",
    "output_file(\"linked_brushing.html\")\n",
    "\n",
    "# plot에 들어갈 총 데이터들을 dictionary로 만들어서 ColumnDataSource 객체 형성을 위해 인자로 넣어준다.\n",
    "# 이 ColumnDataSource 객체는 이후 그래프에 source 옵션의 값으로 들어가서\n",
    "# 이 그래프의 어떤 요소가 다른 그래프의 어떤 요소와 같은지 파악하는데 사용된다.\n",
    "source = ColumnDataSource(data=dict(x=x, y0=y0, y1=y1))\n",
    "\n",
    "TOOLS = \"pan,wheel_zoom,box_zoom,reset,save,box_select,lasso_select\"\n",
    "\n",
    "# 도화지(figure)를 만들어주고 그림(renderer)을 그려준다\n",
    "left = figure(tools=TOOLS, width=350, height=350, title=None)\n",
    "left.circle('x', 'y0', source=source)\n",
    "\n",
    "# 도화지를 생성하고 그림을 그려준다.\n",
    "right = figure(tools=TOOLS, width=350, height=350, title=None)\n",
    "right.circle('x', 'y1', source=source)\n",
    "\n",
    "# 두 그래프(두개의 도화지)를 하나로 묶어준다.(gridplot()를 이용)\n",
    "p = gridplot([[left, right]])\n",
    "\n",
    "# show the results\n",
    "show(p)"
   ]
  },
  {
   "cell_type": "code",
   "execution_count": 12,
   "metadata": {},
   "outputs": [
    {
     "name": "stdout",
     "output_type": "stream",
     "text": [
      "Using data directory: C:\\Users\\student\\.bokeh\\data\n",
      "Downloading: CGM.csv (1589982 bytes)\n",
      "   1589982 [100.00%]\n",
      "Downloading: US_Counties.zip (3171836 bytes)\n",
      "   3171836 [100.00%]\n",
      "Unpacking: US_Counties.csv\n",
      "Downloading: us_cities.json (713565 bytes)\n",
      "    713565 [100.00%]\n",
      "Downloading: unemployment09.csv (253301 bytes)\n",
      "    253301 [100.00%]\n",
      "Downloading: AAPL.csv (166698 bytes)\n",
      "    166698 [100.00%]\n",
      "Downloading: FB.csv (9706 bytes)\n",
      "      9706 [100.00%]\n",
      "Downloading: GOOG.csv (113894 bytes)\n",
      "    113894 [100.00%]\n",
      "Downloading: IBM.csv (165625 bytes)\n",
      "    165625 [100.00%]\n",
      "Downloading: MSFT.csv (161614 bytes)\n",
      "    161614 [100.00%]\n",
      "Downloading: WPP2012_SA_DB03_POPULATION_QUINQUENNIAL.zip (4816256 bytes)\n",
      "   4816256 [100.00%]\n",
      "Unpacking: WPP2012_SA_DB03_POPULATION_QUINQUENNIAL.csv\n",
      "Downloading: gapminder_fertility.csv (64346 bytes)\n",
      "     64346 [100.00%]\n",
      "Downloading: gapminder_population.csv (94509 bytes)\n",
      "     94509 [100.00%]\n",
      "Downloading: gapminder_life_expectancy.csv (73243 bytes)\n",
      "     73243 [100.00%]\n",
      "Downloading: gapminder_regions.csv (7781 bytes)\n",
      "      7781 [100.00%]\n",
      "Downloading: world_cities.zip (645274 bytes)\n",
      "    645274 [100.00%]\n",
      "Unpacking: world_cities.csv\n",
      "Downloading: airports.json (6373 bytes)\n",
      "      6373 [100.00%]\n",
      "Downloading: movies.db.zip (5053420 bytes)\n",
      "   5053420 [100.00%]\n",
      "Unpacking: movies.db\n",
      "Downloading: airports.csv (203190 bytes)\n",
      "    203190 [100.00%]\n",
      "Downloading: routes.csv (377280 bytes)\n",
      "    377280 [100.00%]\n",
      "Downloading: haarcascade_frontalface_default.xml (930127 bytes)\n",
      "    930127 [100.00%]\n"
     ]
    }
   ],
   "source": [
    "# 아래 코드를 실행시키려면 stocks 데이터가 필요하다\n",
    "\n",
    "import bokeh.sampledata\n",
    "\n",
    "bokeh.sampledata.download(\"stocks\")"
   ]
  },
  {
   "cell_type": "code",
   "execution_count": 20,
   "metadata": {},
   "outputs": [],
   "source": [
    "import numpy as np\n",
    "\n",
    "from bokeh.plotting import figure, output_file, show\n",
    "from bokeh.sampledata.stocks import AAPL\n",
    "\n",
    "# Sampledata에 있는 AAPL 데이터는 dict 형태의 데이터로 \n",
    "# ['date', 'open', 'high', 'low', 'close', 'volume', 'adj_close']를 키로 가지고 있다.\n",
    "# print(type(AAPL))\n",
    "# print(AAPL.keys())\n",
    "\n",
    "# 샘플데이터에서 필요한 데이터만 뽑아서 변수로 지정해준다.\n",
    "aapl = np.array(AAPL['adj_close'])\n",
    "aapl_dates = np.array(AAPL['date'], dtype=np.datetime64)\n",
    "\n",
    "\n",
    "window_size = 30\n",
    "# np.ones(K): K개의 1로 이루어진 array를 생성한다.\n",
    "# np.one(K)/float(window_size): numpy의 array에 그냥 '*' 혹은 '/'를 사용하면 각 요소에 곱하기 혹은 나누기가 적용된다.\n",
    "window = np.ones(window_size)/float(window_size)\n",
    "# np.convolve는 합성곱을 해주는 것이다. (array1, array2, 합성곱모드)를 인자로 받는다.\n",
    "aapl_avg = np.convolve(aapl, window, 'same')\n",
    "\n",
    "# 저장형태를 설정한다.\n",
    "output_file(\"stocks.html\", title=\"stocks.py example\")\n",
    "\n",
    "# 새로운 도화지를 만들어준다. x축의 값의 유형(type)을 설정해준다(x_axis_type를 이용한다)\n",
    "p = figure(plot_width=800, plot_height=350, x_axis_type=\"datetime\")\n",
    "\n",
    "# 도화지 위에 그래프를 그려준다. \n",
    "p.circle(aapl_dates, aapl, size=4, color='darkgrey', alpha=0.2, legend='close')\n",
    "p.line(aapl_dates, aapl_avg, color='navy', legend='avg')\n",
    "\n",
    "\n",
    "p.title.text = \"AAPL One-Month Average\"\n",
    "# <figure>.legend.location으로 범례의 위치를 지정할 수 있으며, 값으로 숫자가 아닌 문자열을 받는다. \n",
    "p.legend.location = \"top_left\"\n",
    "# <figure>.grid.grid_line_alpha는 도화지 상의 grid(격자)의 투명도를 의미한다. 0부터 1사이의 값으로 설정할 수 있다. \n",
    "p.grid.grid_line_alpha = 1\n",
    "p.xaxis.axis_label = 'Date'\n",
    "p.yaxis.axis_label = 'Price'\n",
    "# <figure>ygrid.band_fill_color는 도화지 위의 격자 가로줄에 색상을 넣어주는 옵션이다.\n",
    "p.ygrid.band_fill_color = \"olive\"\n",
    "p.ygrid.band_fill_alpha = 0.1\n",
    "\n",
    "# show the results\n",
    "show(p)"
   ]
  },
  {
   "cell_type": "code",
   "execution_count": 17,
   "metadata": {},
   "outputs": [
    {
     "name": "stdout",
     "output_type": "stream",
     "text": [
      "[ 31.68  29.66  31.12 ... 438.75 435.62 424.83]\n",
      "[ 15.035       16.20366667  17.349      ... 270.03766667 255.06333333\n",
      " 240.105     ]\n"
     ]
    }
   ],
   "source": []
  },
  {
   "cell_type": "code",
   "execution_count": null,
   "metadata": {},
   "outputs": [],
   "source": []
  }
 ],
 "metadata": {
  "kernelspec": {
   "display_name": "Python 3",
   "language": "python",
   "name": "python3"
  },
  "language_info": {
   "codemirror_mode": {
    "name": "ipython",
    "version": 3
   },
   "file_extension": ".py",
   "mimetype": "text/x-python",
   "name": "python",
   "nbconvert_exporter": "python",
   "pygments_lexer": "ipython3",
   "version": "3.6.8"
  }
 },
 "nbformat": 4,
 "nbformat_minor": 2
}
